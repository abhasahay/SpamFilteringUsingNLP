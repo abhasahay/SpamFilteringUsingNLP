{
 "cells": [
  {
   "cell_type": "markdown",
   "metadata": {},
   "source": [
    "1.Importing the required libraries"
   ]
  },
  {
   "cell_type": "code",
   "execution_count": 2,
   "metadata": {},
   "outputs": [],
   "source": [
    "import sys\n",
    "import nltk\n",
    "import sklearn\n",
    "import pandas as pd\n",
    "import numpy as np\n"
   ]
  },
  {
   "cell_type": "markdown",
   "metadata": {},
   "source": [
    "2.Load the dataset"
   ]
  },
  {
   "cell_type": "code",
   "execution_count": 3,
   "metadata": {},
   "outputs": [],
   "source": [
    "df = pd.read_table('SMSSpamCollection' , header=None , encoding = 'utf-8')"
   ]
  },
  {
   "cell_type": "code",
   "execution_count": 4,
   "metadata": {},
   "outputs": [
    {
     "name": "stdout",
     "output_type": "stream",
     "text": [
      "<class 'pandas.core.frame.DataFrame'>\n",
      "RangeIndex: 5572 entries, 0 to 5571\n",
      "Data columns (total 2 columns):\n",
      "0    5572 non-null object\n",
      "1    5572 non-null object\n",
      "dtypes: object(2)\n",
      "memory usage: 87.1+ KB\n",
      "None\n",
      "      0                                                  1\n",
      "0   ham  Go until jurong point, crazy.. Available only ...\n",
      "1   ham                      Ok lar... Joking wif u oni...\n",
      "2  spam  Free entry in 2 a wkly comp to win FA Cup fina...\n",
      "3   ham  U dun say so early hor... U c already then say...\n",
      "4   ham  Nah I don't think he goes to usf, he lives aro...\n"
     ]
    }
   ],
   "source": [
    "# Print useful information about the data\n",
    "print(df.info())\n",
    "print(df.head())"
   ]
  },
  {
   "cell_type": "code",
   "execution_count": 5,
   "metadata": {},
   "outputs": [
    {
     "name": "stdout",
     "output_type": "stream",
     "text": [
      "ham     4825\n",
      "spam     747\n",
      "Name: 0, dtype: int64\n"
     ]
    }
   ],
   "source": [
    "# Check class distribution\n",
    "\n",
    "classes = df[0]\n",
    "print(classes.value_counts())\n"
   ]
  },
  {
   "cell_type": "markdown",
   "metadata": {},
   "source": [
    "3.Preprocess the data"
   ]
  },
  {
   "cell_type": "code",
   "execution_count": 7,
   "metadata": {},
   "outputs": [
    {
     "name": "stdout",
     "output_type": "stream",
     "text": [
      "[0 0 1 0 0 1 0 0 1 1]\n"
     ]
    }
   ],
   "source": [
    "# Convert class labels to binary values\n",
    "\n",
    "from sklearn.preprocessing import LabelEncoder\n",
    "encoder = LabelEncoder()\n",
    "Y = encoder.fit_transform(classes)\n",
    "\n",
    "print(Y[:10])"
   ]
  },
  {
   "cell_type": "code",
   "execution_count": 8,
   "metadata": {},
   "outputs": [
    {
     "name": "stdout",
     "output_type": "stream",
     "text": [
      "0    Go until jurong point, crazy.. Available only ...\n",
      "1                        Ok lar... Joking wif u oni...\n",
      "2    Free entry in 2 a wkly comp to win FA Cup fina...\n",
      "3    U dun say so early hor... U c already then say...\n",
      "4    Nah I don't think he goes to usf, he lives aro...\n",
      "5    FreeMsg Hey there darling it's been 3 week's n...\n",
      "6    Even my brother is not like to speak with me. ...\n",
      "7    As per your request 'Melle Melle (Oru Minnamin...\n",
      "8    WINNER!! As a valued network customer you have...\n",
      "9    Had your mobile 11 months or more? U R entitle...\n",
      "Name: 1, dtype: object\n"
     ]
    }
   ],
   "source": [
    "# Store sms message data\n",
    "\n",
    "text_messages = df[1]\n",
    "print(text_messages[:10])"
   ]
  },
  {
   "cell_type": "code",
   "execution_count": 10,
   "metadata": {},
   "outputs": [],
   "source": [
    "# use regular expressions to replace email addresses, URLs, phone numbers, other numbers\n",
    "\n",
    "# Replace email addresses with 'email'\n",
    "processed = text_messages.str.replace(r'^.+@[^\\.].*\\.[a-z]{2,}$',\n",
    "                                 'emailaddr')\n",
    "\n",
    "# Replace URLs with 'webaddress'\n",
    "processed = processed.str.replace(r'^http\\://[a-zA-Z0-9\\-\\.]+\\.[a-zA-Z]{2,3}(/\\S*)?$',\n",
    "                                  'webaddress')\n",
    "\n",
    "# Replace money symbols with 'moneysymb' (£ can by typed with ALT key + 156)\n",
    "processed = processed.str.replace(r'£|\\$', 'moneysymb')\n",
    "    \n",
    "# Replace 10 digit phone numbers (formats include paranthesis, spaces, no spaces, dashes) with 'phonenumber'\n",
    "processed = processed.str.replace(r'^\\(?[\\d]{3}\\)?[\\s-]?[\\d]{3}[\\s-]?[\\d]{4}$',\n",
    "                                  'phonenumbr')\n",
    "    \n",
    "# Replace numbers with 'numbr'\n",
    "processed = processed.str.replace(r'\\d+(\\.\\d+)?', 'numbr')"
   ]
  },
  {
   "cell_type": "code",
   "execution_count": 11,
   "metadata": {},
   "outputs": [],
   "source": [
    "# Remove punctuation\n",
    "processed = processed.str.replace(r'[^\\w\\d\\s]', ' ')\n",
    "\n",
    "# Replace whitespace between terms with a single space\n",
    "processed = processed.str.replace(r'\\s+', ' ')\n",
    "\n",
    "# Remove leading and trailing whitespace\n",
    "processed = processed.str.replace(r'^\\s+|\\s+?$', '')"
   ]
  },
  {
   "cell_type": "code",
   "execution_count": 13,
   "metadata": {},
   "outputs": [
    {
     "name": "stdout",
     "output_type": "stream",
     "text": [
      "0       go until jurong point crazy available only in ...\n",
      "1                                 ok lar joking wif u oni\n",
      "2       free entry in numbr a wkly comp to win fa cup ...\n",
      "3             u dun say so early hor u c already then say\n",
      "4       nah i don t think he goes to usf he lives arou...\n",
      "5       freemsg hey there darling it s been numbr week...\n",
      "6       even my brother is not like to speak with me t...\n",
      "7       as per your request melle melle oru minnaminun...\n",
      "8       winner as a valued network customer you have b...\n",
      "9       had your mobile numbr months or more u r entit...\n",
      "10      i m gonna be home soon and i don t want to tal...\n",
      "11      six chances to win cash from numbr to numbr nu...\n",
      "12      urgent you have won a numbr week free membersh...\n",
      "13      i ve been searching for the right words to tha...\n",
      "14                      i have a date on sunday with will\n",
      "15      xxxmobilemovieclub to use your credit click th...\n",
      "16                                 oh k i m watching here\n",
      "17      eh u remember how numbr spell his name yes i d...\n",
      "18      fine if that s the way u feel that s the way i...\n",
      "19      england v macedonia dont miss the goals team n...\n",
      "20               is that seriously how you spell his name\n",
      "21      i m going to try for numbr months ha ha only j...\n",
      "22         so ü pay first lar then when is da stock comin\n",
      "23      aft i finish my lunch then i go str down lor a...\n",
      "24      ffffffffff alright no way i can meet up with y...\n",
      "25      just forced myself to eat a slice i m really n...\n",
      "26                          lol your always so convincing\n",
      "27      did you catch the bus are you frying an egg di...\n",
      "28      i m back amp we re packing the car now i ll le...\n",
      "29      ahhh work i vaguely remember that what does it...\n",
      "                              ...                        \n",
      "5542             armand says get your ass over to epsilon\n",
      "5543                u still havent got urself a jacket ah\n",
      "5544    i m taking derek amp taylor to walmart if i m ...\n",
      "5545        hi its in durban are you still on this number\n",
      "5546             ic there are a lotta childporn cars then\n",
      "5547    had your contract mobile numbr mnths latest mo...\n",
      "5548                     no i was trying it all weekend v\n",
      "5549    you know wot people wear t shirts jumpers hat ...\n",
      "5550            cool what time you think you can get here\n",
      "5551    wen did you get so spiritual and deep that s g...\n",
      "5552    have a safe trip to nigeria wish you happiness...\n",
      "5553                           hahaha use your brain dear\n",
      "5554    well keep in mind i ve only got enough gas for...\n",
      "5555    yeh indians was nice tho it did kane me off a ...\n",
      "5556    yes i have so that s why u texted pshew missin...\n",
      "5557    no i meant the calculation is the same that lt...\n",
      "5558                                sorry i ll call later\n",
      "5559    if you aren t here in the next lt gt hours imm...\n",
      "5560                      anything lor juz both of us lor\n",
      "5561    get me out of this dump heap my mom decided to...\n",
      "5562    ok lor sony ericsson salesman i ask shuhui the...\n",
      "5563                               ard numbr like dat lor\n",
      "5564    why don t you wait til at least wednesday to s...\n",
      "5565                                            huh y lei\n",
      "5566    reminder from onumbr to get numbr pounds free ...\n",
      "5567    this is the numbrnd time we have tried numbr c...\n",
      "5568                  will ü b going to esplanade fr home\n",
      "5569    pity was in mood for that so any other suggest...\n",
      "5570    the guy did some bitching but i acted like i d...\n",
      "5571                            rofl its true to its name\n",
      "Name: 1, Length: 5572, dtype: object\n"
     ]
    }
   ],
   "source": [
    "# Change words to lower case as being in capitals doesn't convey any meaning\n",
    "\n",
    "processed = processed.str.lower()\n",
    "print(processed)\n"
   ]
  },
  {
   "cell_type": "code",
   "execution_count": 14,
   "metadata": {},
   "outputs": [],
   "source": [
    "# remove stop words like 'the' etc. as they do not add any value \n",
    "from nltk.corpus import stopwords\n",
    "\n",
    "# remove stop words from messages\n",
    "stop_words = set(stopwords.words('english'))\n",
    "\n",
    "processed = processed.apply(lambda x:' '.join(term for term in x.split() if term not in stop_words))"
   ]
  },
  {
   "cell_type": "code",
   "execution_count": 20,
   "metadata": {},
   "outputs": [],
   "source": [
    "# Remove word stems using Porter stemmer\n",
    "\n",
    "ps = nltk.PorterStemmer()\n",
    "\n",
    "processed = processed.apply(lambda x: ' '.join(ps.stem(term) for term in x.split()))"
   ]
  },
  {
   "cell_type": "markdown",
   "metadata": {},
   "source": [
    "4.Generate features by tokenizing"
   ]
  },
  {
   "cell_type": "code",
   "execution_count": 22,
   "metadata": {},
   "outputs": [],
   "source": [
    "# Begin the process of tokenizing\n",
    "from nltk.tokenize import word_tokenize\n",
    "\n",
    "# Create a bag of words\n",
    "all_words = []\n",
    "\n",
    "for message in processed:\n",
    "    words = word_tokenize(message)\n",
    "    for w in words:\n",
    "        all_words.append(w)\n",
    "        \n",
    "all_words = nltk.FreqDist(all_words)"
   ]
  },
  {
   "cell_type": "code",
   "execution_count": 23,
   "metadata": {},
   "outputs": [
    {
     "name": "stdout",
     "output_type": "stream",
     "text": [
      "Number of words : 6579\n",
      "15 most commong words : [('numbr', 2648), ('u', 1207), ('call', 674), ('go', 456), ('get', 451), ('ur', 391), ('gt', 318), ('lt', 316), ('come', 304), ('moneysymbnumbr', 303), ('ok', 293), ('free', 284), ('day', 276), ('know', 275), ('love', 266)]\n"
     ]
    }
   ],
   "source": [
    "# Print the total number of words and the most common words\n",
    "\n",
    "print('Number of words : {}'.format(len(all_words)))\n",
    "print('15 most commong words : {}'.format(all_words.most_common(15)))"
   ]
  },
  {
   "cell_type": "code",
   "execution_count": 24,
   "metadata": {},
   "outputs": [],
   "source": [
    "# Use 1500 most common words as features\n",
    "\n",
    "word_features = list(all_words.keys())[:1500]\n"
   ]
  },
  {
   "cell_type": "code",
   "execution_count": 25,
   "metadata": {},
   "outputs": [],
   "source": [
    "# Define a function that will determine if any of the above 1500 words are present in the review\n",
    "\n",
    "def find_features(message):\n",
    "    words = word_tokenize(message)\n",
    "    features= {}\n",
    "    for word in word_features:\n",
    "        features[word]=(word in words)\n",
    "        \n",
    "        return features\n",
    "        \n",
    "    "
   ]
  },
  {
   "cell_type": "code",
   "execution_count": 34,
   "metadata": {},
   "outputs": [],
   "source": [
    "# Finding features of all messages\n",
    "messages = zip(processed,Y)\n",
    "\n",
    "#Define a seed for reproducibility\n",
    "seed = 1\n",
    "\n",
    "np.random_seed = seed\n",
    "\n",
    "\n",
    "# Find features for all messages\n",
    "\n",
    "featuresets =[(find_features(text), label) for (text,label) in messages]\n"
   ]
  },
  {
   "cell_type": "code",
   "execution_count": 36,
   "metadata": {},
   "outputs": [],
   "source": [
    "# Splitting the featuresets into training and test sets for training and testing the model respectively\n",
    "\n",
    "from sklearn import model_selection\n",
    "\n",
    "(training,testing)= model_selection.train_test_split(featuresets, test_size =0.25 ,random_state =seed)\n"
   ]
  },
  {
   "cell_type": "code",
   "execution_count": 37,
   "metadata": {},
   "outputs": [
    {
     "name": "stdout",
     "output_type": "stream",
     "text": [
      "4179\n",
      "1393\n"
     ]
    }
   ],
   "source": [
    "print(len(training))\n",
    "\n",
    "print(len(testing))"
   ]
  },
  {
   "cell_type": "markdown",
   "metadata": {},
   "source": [
    "5.Training various classifiers using the training and testing datasets"
   ]
  },
  {
   "cell_type": "code",
   "execution_count": 55,
   "metadata": {},
   "outputs": [
    {
     "name": "stdout",
     "output_type": "stream",
     "text": [
      "SVC Accuracy :86.71931083991386\n"
     ]
    }
   ],
   "source": [
    "from nltk.classify.scikitlearn import SklearnClassifier\n",
    "from sklearn.svm import SVC\n",
    "\n",
    "model = SklearnClassifier(SVC(kernel ='linear'))\n",
    "\n",
    "#Train the model using training data\n",
    "model.train(training)\n",
    "\n",
    "#Test the model and measure accuracy using testing data\n",
    "accuracy = nltk.classify.accuracy(model,testing)*100\n",
    "print('SVC Accuracy :{}'.format(accuracy))\n"
   ]
  },
  {
   "cell_type": "code",
   "execution_count": 59,
   "metadata": {},
   "outputs": [
    {
     "name": "stdout",
     "output_type": "stream",
     "text": [
      "K Nearest Neighbors Accuracy: 86.71931083991386\n",
      "Decision Tree Accuracy: 86.71931083991386\n",
      "Random forest Accuracy: 86.71931083991386\n",
      "Logistic Regression Accuracy: 86.71931083991386\n",
      "SGD CLassifierNaive Bayes Accuracy: 86.71931083991386\n",
      "SVM Linear Accuracy: 86.71931083991386\n"
     ]
    }
   ],
   "source": [
    "# Now training on various other models\n",
    "\n",
    "from sklearn.neighbors import KNeighborsClassifier\n",
    "from sklearn.tree import DecisionTreeClassifier\n",
    "from sklearn.ensemble import RandomForestClassifier\n",
    "from sklearn.linear_model import LogisticRegression, SGDClassifier\n",
    "from sklearn.naive_bayes import MultinomialNB\n",
    "from sklearn.svm import SVC\n",
    "from sklearn.metrics import classification_report, accuracy_score, confusion_matrix\n",
    "\n",
    "names =[\"K Nearest Neighbors\",\"Decision Tree\",\"Random forest\" ,\"Logistic Regression\",\"SGD CLassifier\" \"Naive Bayes\",\"SVM Linear\"]\n",
    "\n",
    "classifiers = [KNeighborsClassifier(),\n",
    "              DecisionTreeClassifier(),\n",
    "              RandomForestClassifier(),\n",
    "              LogisticRegression(),\n",
    "              SGDClassifier(max_iter=100),\n",
    "              MultinomialNB(),\n",
    "              SVC(kernel='linear')]\n",
    "\n",
    "models =zip(names,classifiers)\n",
    "\n",
    "for name, model in models:\n",
    "    nltk_model = SklearnClassifier(model)\n",
    "    nltk_model.train(training)\n",
    "    accuracy = nltk.classify.accuracy(nltk_model, testing)*100\n",
    "    print(\"{} Accuracy: {}\".format(name, accuracy))\n",
    "    "
   ]
  },
  {
   "cell_type": "code",
   "execution_count": null,
   "metadata": {},
   "outputs": [],
   "source": [
    "#Using the voting classifier to get the best accuracy\n",
    "from sklearn.ensemble import VotingClassifier\n",
    "\n",
    "names =[\"K Nearest Neighbors\",\"Decision Tree\",\"Random forest\" ,\"Logistic Regression\",\"SGD CLassifier\" \"Naive Bayes\",\"SVM Linear\"]\n",
    "\n",
    "classifiers = [KNeighborsClassifier(),\n",
    "              DecisionTreeClassifier(),\n",
    "              RandomForestClassifier(),\n",
    "              LogisticRegression(),\n",
    "              SGDClassifier(max_iter=100),\n",
    "              MultinomialNB(),\n",
    "              SVC(kernel='linear')]\n",
    "\n",
    "models = list(zip(names,classifiers))\n",
    "\n",
    "nltk_ensemble = SklearnClassifier(VotingClassifier(estimators= models,voting='hard',n_jobs= -1))\n",
    "nltk_ensemble.train(training)\n",
    "accuracy = nltk.classify.accuracy(nltk_ensemble, testing)*100\n",
    "\n",
    "print(accuracy)"
   ]
  },
  {
   "cell_type": "code",
   "execution_count": null,
   "metadata": {},
   "outputs": [],
   "source": [
    "# Make class label predictions\n",
    "txt_features,labels = zip(*testing)\n",
    "prediction = nltk_ensemble.classify_many(txt_features)"
   ]
  },
  {
   "cell_type": "code",
   "execution_count": null,
   "metadata": {},
   "outputs": [],
   "source": []
  }
 ],
 "metadata": {
  "kernelspec": {
   "display_name": "Python 3",
   "language": "python",
   "name": "python3"
  },
  "language_info": {
   "codemirror_mode": {
    "name": "ipython",
    "version": 3
   },
   "file_extension": ".py",
   "mimetype": "text/x-python",
   "name": "python",
   "nbconvert_exporter": "python",
   "pygments_lexer": "ipython3",
   "version": "3.6.5"
  }
 },
 "nbformat": 4,
 "nbformat_minor": 2
}
